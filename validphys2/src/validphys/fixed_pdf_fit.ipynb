{
 "cells": [
  {
   "cell_type": "code",
   "execution_count": 16,
   "metadata": {},
   "outputs": [],
   "source": [
    "from n3fit.layers.CombineCfac import CombineCfacLayer\n",
    "from validphys.initialisation_specs import UniformInitialisation\n",
    "\n",
    "from validphys.loader import Loader\n",
    "\n",
    "l = Loader()\n",
    "\n",
    "layer = CombineCfacLayer(scales=[1],\n",
    "                         linear_names=[\"Z\"],\n",
    "                         initialisations=[UniformInitialisation(type='uniform',minval=-.001, maxval=.001)],\n",
    "                         initialisation_seed=1,\n",
    "                         replica_number=1,)"
   ]
  },
  {
   "cell_type": "code",
   "execution_count": 17,
   "metadata": {},
   "outputs": [],
   "source": [
    "t = layer.call(inputs=None,\n",
    "               linear_values=None,)"
   ]
  }
 ],
 "metadata": {
  "kernelspec": {
   "display_name": "simunet",
   "language": "python",
   "name": "python3"
  },
  "language_info": {
   "codemirror_mode": {
    "name": "ipython",
    "version": 3
   },
   "file_extension": ".py",
   "mimetype": "text/x-python",
   "name": "python",
   "nbconvert_exporter": "python",
   "pygments_lexer": "ipython3",
   "version": "3.9.18"
  }
 },
 "nbformat": 4,
 "nbformat_minor": 2
}
